{
 "cells": [
  {
   "cell_type": "markdown",
   "metadata": {},
   "source": [
    "# Amazon SageMaker Object Detection with Elastic Inference\n",
    "\n",
    "1. [Introduction](#Introduction)\n",
    "2. [Setup](#Setup)\n",
    "3. [Data Preparation](#Data-Preparation)\n",
    "  1. [Download data](#Download-Data)\n",
    "  2. [Convert data into RecordIO](#Convert-data-into-RecordIO)\n",
    "  3. [Upload to S3](#Upload-to-S3)\n",
    "4. [Training](#Training)\n",
    "5. [Hosting](#Hosting)\n",
    "6. [Inference](#Inference)"
   ]
  },
  {
   "cell_type": "markdown",
   "metadata": {},
   "source": [
    "## Introduction\n",
    "\n",
    "Object detection is the process of identifying and localizing objects in an image. A typical object detection solution takes in an image as input and provides a bounding box on the image where a object of interest is along with identifying what object the box encapsulates. But before we have this solution, we need to acquire and process a traning dataset, create and setup a training job for the alorithm so that the aglorithm can learn about the dataset and then host the algorithm as an endpoint, to which we can supply the query image.\n",
    "\n",
    "This notebook is an end-to-end example introducing the Amazon SageMaker Object Detection algorithm. In this demo, we will demonstrate how to train and to host an object detection model on the [Pascal VOC dataset](http://host.robots.ox.ac.uk/pascal/VOC/) using the Single Shot multibox Detector ([SSD](https://arxiv.org/abs/1512.02325)) algorithm. In doing so, we will also demonstrate how to construct a training dataset using the RecordIO format as this is the format that the training job will consume. We will also demonstrate how to host and validate this trained model. Amazon SageMaker Object Detection also allow training with the image and JSON format, which is illustrated in the [image and JSON Notebook](https://github.com/awslabs/amazon-sagemaker-examples/blob/master/introduction_to_amazon_algorithms/object_detection_pascalvoc_coco/object_detection_image_json_format.ipynb)."
   ]
  },
  {
   "cell_type": "markdown",
   "metadata": {},
   "source": [
    "## Setup\n",
    "\n",
    "To train the Object Detection algorithm on Amazon SageMaker, we need to setup and authenticate the use of AWS services. To begin with we need an AWS account role with SageMaker access. This role is used to give SageMaker access to your data in S3 will automatically be obtained from the role used to start the notebook."
   ]
  },
  {
   "cell_type": "code",
   "execution_count": 1,
   "metadata": {
    "scrolled": true
   },
   "outputs": [
    {
     "name": "stdout",
     "output_type": "stream",
     "text": [
      "arn:aws:iam::349934754982:role/service-role/AmazonSageMaker-ExecutionRole-20180913T235776\n",
      "CPU times: user 848 ms, sys: 195 ms, total: 1.04 s\n",
      "Wall time: 16.3 s\n"
     ]
    }
   ],
   "source": [
    "%%time\n",
    "import sagemaker\n",
    "from sagemaker import get_execution_role\n",
    "\n",
    "role = get_execution_role()\n",
    "print(role)\n",
    "sess = sagemaker.Session()"
   ]
  },
  {
   "cell_type": "code",
   "execution_count": 18,
   "metadata": {},
   "outputs": [],
   "source": [
    "import boto3\n",
    "client = boto3.client('sagemaker')"
   ]
  },
  {
   "cell_type": "markdown",
   "metadata": {},
   "source": [
    "We also need the S3 bucket that you want to use for training and to store the tranied model artifacts. In this notebook, we require a custom bucket that exists so as to keep the naming clean. You can end up using a default bucket that SageMaker comes with as well."
   ]
  },
  {
   "cell_type": "code",
   "execution_count": 2,
   "metadata": {},
   "outputs": [
    {
     "name": "stderr",
     "output_type": "stream",
     "text": [
      "INFO:sagemaker:Created S3 bucket: sagemaker-us-east-1-349934754982\n"
     ]
    }
   ],
   "source": [
    "bucket = sess.default_bucket() \n",
    "prefix = 'DEMO-ObjectDetection'"
   ]
  },
  {
   "cell_type": "markdown",
   "metadata": {},
   "source": [
    "Lastly, we need the Amazon SageMaker Object Detection docker image, which is static and need not be changed."
   ]
  },
  {
   "cell_type": "code",
   "execution_count": 3,
   "metadata": {},
   "outputs": [
    {
     "name": "stdout",
     "output_type": "stream",
     "text": [
      "811284229777.dkr.ecr.us-east-1.amazonaws.com/object-detection:latest\n"
     ]
    }
   ],
   "source": [
    "from sagemaker.amazon.amazon_estimator import get_image_uri\n",
    "\n",
    "training_image = get_image_uri(sess.boto_region_name, 'object-detection', repo_version=\"latest\")\n",
    "print (training_image)"
   ]
  },
  {
   "cell_type": "markdown",
   "metadata": {},
   "source": [
    "## Data Preparation\n",
    "[Pascal VOC](http://host.robots.ox.ac.uk/pascal/VOC/) was a popular computer vision challenge and they released annual challenge datasets for object detection from 2005 to 2012. In this notebook, we will use the data sets from 2007 and 2012, named as VOC07 and VOC12 respectively. Cumulatively, we have more than 20,000 images containing about 50,000 annotated objects. These annotated objects are grouped into 20 categories.\n",
    "\n",
    "While using the Pascal VOC dateset, please be aware of the database usage rights:\n",
    "\"The VOC data includes images obtained from the \"flickr\" website. Use of these images must respect the corresponding terms of use: \n",
    "* \"flickr\" terms of use (https://www.flickr.com/help/terms)\""
   ]
  },
  {
   "cell_type": "markdown",
   "metadata": {},
   "source": [
    "### Download data\n",
    "Let us download the Pascal VOC datasets from 2007 and 2012."
   ]
  },
  {
   "cell_type": "code",
   "execution_count": 4,
   "metadata": {},
   "outputs": [
    {
     "name": "stdout",
     "output_type": "stream",
     "text": [
      "--2018-12-13 23:09:30--  http://host.robots.ox.ac.uk/pascal/VOC/voc2012/VOCtrainval_11-May-2012.tar\n",
      "Resolving host.robots.ox.ac.uk (host.robots.ox.ac.uk)... 129.67.94.152\n",
      "Connecting to host.robots.ox.ac.uk (host.robots.ox.ac.uk)|129.67.94.152|:80... connected.\n",
      "HTTP request sent, awaiting response... 200 OK\n",
      "Length: 1999639040 (1.9G) [application/x-tar]\n",
      "Saving to: ‘/tmp/VOCtrainval_11-May-2012.tar’\n",
      "\n",
      "VOCtrainval_11-May- 100%[===================>]   1.86G  8.59MB/s    in 2m 37s  \n",
      "\n",
      "2018-12-13 23:12:07 (12.2 MB/s) - ‘/tmp/VOCtrainval_11-May-2012.tar’ saved [1999639040/1999639040]\n",
      "\n",
      "--2018-12-13 23:12:07--  http://host.robots.ox.ac.uk/pascal/VOC/voc2007/VOCtrainval_06-Nov-2007.tar\n",
      "Resolving host.robots.ox.ac.uk (host.robots.ox.ac.uk)... 129.67.94.152\n",
      "Connecting to host.robots.ox.ac.uk (host.robots.ox.ac.uk)|129.67.94.152|:80... connected.\n",
      "HTTP request sent, awaiting response... 200 OK\n",
      "Length: 460032000 (439M) [application/x-tar]\n",
      "Saving to: ‘/tmp/VOCtrainval_06-Nov-2007.tar’\n",
      "\n",
      "VOCtrainval_06-Nov- 100%[===================>] 438.72M  8.06MB/s    in 49s     \n",
      "\n",
      "2018-12-13 23:12:56 (8.98 MB/s) - ‘/tmp/VOCtrainval_06-Nov-2007.tar’ saved [460032000/460032000]\n",
      "\n",
      "--2018-12-13 23:12:56--  http://host.robots.ox.ac.uk/pascal/VOC/voc2007/VOCtest_06-Nov-2007.tar\n",
      "Resolving host.robots.ox.ac.uk (host.robots.ox.ac.uk)... 129.67.94.152\n",
      "Connecting to host.robots.ox.ac.uk (host.robots.ox.ac.uk)|129.67.94.152|:80... connected.\n",
      "HTTP request sent, awaiting response... 200 OK\n",
      "Length: 451020800 (430M) [application/x-tar]\n",
      "Saving to: ‘/tmp/VOCtest_06-Nov-2007.tar’\n",
      "\n",
      "VOCtest_06-Nov-2007 100%[===================>] 430.13M  6.66MB/s    in 44s     \n",
      "\n",
      "2018-12-13 23:13:40 (9.70 MB/s) - ‘/tmp/VOCtest_06-Nov-2007.tar’ saved [451020800/451020800]\n",
      "\n",
      "CPU times: user 3.99 s, sys: 919 ms, total: 4.91 s\n",
      "Wall time: 4min 17s\n"
     ]
    }
   ],
   "source": [
    "%%time\n",
    "\n",
    "# Download the dataset\n",
    "!wget -P /tmp http://host.robots.ox.ac.uk/pascal/VOC/voc2012/VOCtrainval_11-May-2012.tar\n",
    "!wget -P /tmp http://host.robots.ox.ac.uk/pascal/VOC/voc2007/VOCtrainval_06-Nov-2007.tar\n",
    "!wget -P /tmp http://host.robots.ox.ac.uk/pascal/VOC/voc2007/VOCtest_06-Nov-2007.tar\n",
    "# # Extract the data.\n",
    "!tar -xf /tmp/VOCtrainval_11-May-2012.tar && rm /tmp/VOCtrainval_11-May-2012.tar\n",
    "!tar -xf /tmp/VOCtrainval_06-Nov-2007.tar && rm /tmp/VOCtrainval_06-Nov-2007.tar\n",
    "!tar -xf /tmp/VOCtest_06-Nov-2007.tar && rm /tmp/VOCtest_06-Nov-2007.tar"
   ]
  },
  {
   "cell_type": "markdown",
   "metadata": {},
   "source": [
    "### Convert data into RecordIO\n",
    "[RecordIO](https://mxnet.incubator.apache.org/architecture/note_data_loading.html) is a highly efficient binary data format from [MXNet](https://mxnet.incubator.apache.org/) that makes it easy and simple to prepare the dataset and transfer to the instance that will run the training job. To generate a RecordIO file, we will use the tools from MXNet. The provided tools will first generate a list file and then use the [im2rec tool](https://github.com/apache/incubator-mxnet/blob/master/tools/im2rec.py) to create the [RecordIO](https://mxnet.incubator.apache.org/architecture/note_data_loading.html) file. More details on how to generate RecordIO file for object detection task, see the [MXNet example](https://github.com/apache/incubator-mxnet/tree/master/example/ssd).\n",
    "\n",
    "We will combine the training and validation sets from both 2007 and 2012 as the training data set, and use the test set from 2007 as our validation set."
   ]
  },
  {
   "cell_type": "code",
   "execution_count": 5,
   "metadata": {},
   "outputs": [
    {
     "name": "stdout",
     "output_type": "stream",
     "text": [
      "saving list to disk...\n",
      "List file VOCdevkit/train.lst generated...\n",
      "Creating .rec file from /home/ec2-user/SageMaker/object_detection_pascalvoc_coco_2018-12-13/VOCdevkit/train.lst in /home/ec2-user/SageMaker/object_detection_pascalvoc_coco_2018-12-13/VOCdevkit\n",
      "time: 0.2980821132659912  count: 0\n",
      "time: 5.850496053695679  count: 1000\n",
      "time: 5.503674268722534  count: 2000\n",
      "time: 5.663643836975098  count: 3000\n",
      "time: 5.310498476028442  count: 4000\n",
      "time: 5.479961395263672  count: 5000\n",
      "time: 5.869627237319946  count: 6000\n",
      "time: 5.531539440155029  count: 7000\n",
      "time: 5.6428542137146  count: 8000\n",
      "time: 5.436638593673706  count: 9000\n",
      "time: 5.462406396865845  count: 10000\n",
      "time: 5.621428489685059  count: 11000\n",
      "time: 5.763423919677734  count: 12000\n",
      "time: 5.4947381019592285  count: 13000\n",
      "time: 6.349116325378418  count: 14000\n",
      "time: 5.685890197753906  count: 15000\n",
      "time: 5.532641172409058  count: 16000\n",
      "Record file VOCdevkit/train.rec generated...\n",
      "saving list to disk...\n",
      "List file VOCdevkit/val.lst generated...\n",
      "Creating .rec file from /home/ec2-user/SageMaker/object_detection_pascalvoc_coco_2018-12-13/VOCdevkit/val.lst in /home/ec2-user/SageMaker/object_detection_pascalvoc_coco_2018-12-13/VOCdevkit\n",
      "time: 0.02460455894470215  count: 0\n",
      "time: 5.458346843719482  count: 1000\n",
      "time: 5.323912620544434  count: 2000\n",
      "time: 5.5530619621276855  count: 3000\n",
      "time: 5.627442121505737  count: 4000\n",
      "Record file VOCdevkit/val.rec generated...\n"
     ]
    }
   ],
   "source": [
    "!python tools/prepare_dataset.py --dataset pascal --year 2007,2012 --set trainval --target VOCdevkit/train.lst\n",
    "!rm -rf VOCdevkit/VOC2012\n",
    "!python tools/prepare_dataset.py --dataset pascal --year 2007 --set test --target VOCdevkit/val.lst --no-shuffle\n",
    "!rm -rf VOCdevkit/VOC2007"
   ]
  },
  {
   "cell_type": "markdown",
   "metadata": {},
   "source": [
    "Along with this notebook, we have provided tools that can directly generated the RecordIO files so that you do not need to do addtional work. These tools work with the Pascal datasets lst format, which is also quite the common among most datasets. If your data are stored in a different format or the annotation of your data is in a different format than the Pascal VOC dataset, you can also create the RecordIO by first generating the .lst file and then using the im2rec tool provided by MXNet. To make things clear, we will explain the definition of a .lst file so that you can prepare it in your own way. The following example is the first three lines of the .lst file we just generated for the Pascal VOC dataset."
   ]
  },
  {
   "cell_type": "code",
   "execution_count": 6,
   "metadata": {},
   "outputs": [
    {
     "name": "stdout",
     "output_type": "stream",
     "text": [
      "0\t2\t5\t11.0000\t0.3311\t0.4260\t0.9365\t0.8220\t14.0000\t0.0903\t0.0500\t1.0000\t1.0000\t14.0000\t0.0033\t0.0480\t0.1839\t0.2940\t14.0000\t0.0033\t0.0020\t0.0669\t0.1480\t10.0000\t0.0100\t0.5860\t0.9331\t0.7900\t8.0000\t0.8328\t0.7680\t1.0000\t1.0000\tVOC2012/JPEGImages/2011_001276.jpg\n",
      "1\t2\t5\t14.0000\t0.0240\t0.0213\t0.7940\t1.0000\t15.0000\t0.0020\t0.3227\t0.3100\t0.7973\tVOC2012/JPEGImages/2008_003203.jpg\n",
      "2\t2\t5\t12.0000\t0.5440\t0.4174\t0.7120\t0.9730\tVOC2012/JPEGImages/2009_003305.jpg\n",
      "\n"
     ]
    }
   ],
   "source": [
    "!head -n 3 VOCdevkit/train.lst > example.lst\n",
    "f = open('example.lst','r')\n",
    "lst_content = f.read()\n",
    "print(lst_content)"
   ]
  },
  {
   "cell_type": "markdown",
   "metadata": {},
   "source": [
    "As can be seen that each line in the .lst file represents the annotations for a image. A .lst file is a **tab**-delimited file with multiple columns. The rows of the file are annotations of the of image files. The first column specifies a unique image index. The second column specifies the header size of the current row. In the above example .lst file, 2 from the second column means the second and third columns are header information, which will not be considered as label and bounding box information of the image specified by the current row.\n",
    "\n",
    "The third column specifies the label width of a single object. In the first row of above sample .lst file, 5 from the third row means each object within an image will have 5 numbers to describe its label information, including class index, and bounding box coordinates. If there are multiple objects within one image, all the label information should be listed in one line. The annotation information for each object is represented as ``[class_index, xmin, ymin, xmax, ymax]``. \n",
    "\n",
    "The classes should be labeled with successive numbers and start with 0. The bounding box coordinates are ratios of its top-left (xmin, ymin) and bottom-right (xmax, ymax) corner indices to the overall image size. Note that the top-left corner of the entire image is the origin (0, 0). The last column specifies the relative path of the image file.\n",
    "\n",
    "After generating the .lst file, the RecordIO can be created by running the following command:"
   ]
  },
  {
   "cell_type": "code",
   "execution_count": 8,
   "metadata": {},
   "outputs": [],
   "source": [
    "#python /tools/im2rec.py --pack-label --num-thread 4 your_lst_file_name /your_image_folder"
   ]
  },
  {
   "cell_type": "markdown",
   "metadata": {},
   "source": [
    "### Upload data to S3\n",
    "Upload the data to the S3 bucket. We do this in multiple channels. Channels are simply directories in the bucket that differentiate between training and validation data. Let us simply call these directories `train` and `validation`."
   ]
  },
  {
   "cell_type": "code",
   "execution_count": 9,
   "metadata": {},
   "outputs": [
    {
     "name": "stdout",
     "output_type": "stream",
     "text": [
      "CPU times: user 17.5 s, sys: 8.27 s, total: 25.8 s\n",
      "Wall time: 18.3 s\n"
     ]
    }
   ],
   "source": [
    "%%time\n",
    "\n",
    "# Upload the RecordIO files to train and validation channels\n",
    "train_channel = prefix + '/train'\n",
    "validation_channel = prefix + '/validation'\n",
    "\n",
    "sess.upload_data(path='VOCdevkit/train.rec', bucket=bucket, key_prefix=train_channel)\n",
    "sess.upload_data(path='VOCdevkit/val.rec', bucket=bucket, key_prefix=validation_channel)\n",
    "\n",
    "s3_train_data = 's3://{}/{}'.format(bucket, train_channel)\n",
    "s3_validation_data = 's3://{}/{}'.format(bucket, validation_channel)"
   ]
  },
  {
   "cell_type": "markdown",
   "metadata": {},
   "source": [
    "Next we need to setup an output location at S3, where the model artifact will be dumped. These artifacts are also the output of the algorithm's traning job."
   ]
  },
  {
   "cell_type": "code",
   "execution_count": 10,
   "metadata": {},
   "outputs": [],
   "source": [
    "s3_output_location = 's3://{}/{}/output'.format(bucket, prefix)"
   ]
  },
  {
   "cell_type": "markdown",
   "metadata": {},
   "source": [
    "## Training\n",
    "Now that we are done with all the setup that is needed, we are ready to train our object detector. To begin, let us create a ``sageMaker.estimator.Estimator`` object. This estimator will launch the training job."
   ]
  },
  {
   "cell_type": "code",
   "execution_count": 11,
   "metadata": {},
   "outputs": [],
   "source": [
    "od_model = sagemaker.estimator.Estimator(training_image,\n",
    "                                         role, \n",
    "                                         train_instance_count=1, \n",
    "                                         train_instance_type='ml.p3.2xlarge',\n",
    "                                         train_volume_size = 50,\n",
    "                                         train_max_run = 360000,\n",
    "                                         input_mode= 'File',\n",
    "                                         output_path=s3_output_location,\n",
    "                                         sagemaker_session=sess)"
   ]
  },
  {
   "cell_type": "markdown",
   "metadata": {},
   "source": [
    "The object detection algorithm at its core is the [Single-Shot Multi-Box detection algorithm (SSD)](https://arxiv.org/abs/1512.02325). This algorithm uses a `base_network`, which is typically a [VGG](https://arxiv.org/abs/1409.1556) or a [ResNet](https://arxiv.org/abs/1512.03385). The Amazon SageMaker object detection algorithm supports VGG-16 and ResNet-50 now. It also has a lot of options for hyperparameters that help configure the training job. The next step in our training, is to setup these hyperparameters and data channels for training the model. Consider the following example definition of hyperparameters. See the SageMaker Object Detection [documentation](https://docs.aws.amazon.com/sagemaker/latest/dg/object-detection.html) for more details on the hyperparameters.\n",
    "\n",
    "One of the hyperparameters here for instance is the `epochs`. This defines how many passes of the dataset we iterate over and determines that training time of the algorithm. For the sake of demonstration let us run only `10` epochs. Based on our tests, train the model for `30` epochs with similar settings should give us reasonable detection results on the Pascal VOC data."
   ]
  },
  {
   "cell_type": "code",
   "execution_count": 12,
   "metadata": {},
   "outputs": [],
   "source": [
    "od_model.set_hyperparameters(base_network='resnet-50',\n",
    "                             use_pretrained_model=1,\n",
    "                             num_classes=20,\n",
    "                             mini_batch_size=32,\n",
    "                             epochs=10,\n",
    "                             learning_rate=0.001,\n",
    "                             lr_scheduler_step='3,6',\n",
    "                             lr_scheduler_factor=0.1,\n",
    "                             optimizer='sgd',\n",
    "                             momentum=0.9,\n",
    "                             weight_decay=0.0005,\n",
    "                             overlap_threshold=0.5,\n",
    "                             nms_threshold=0.45,\n",
    "                             image_shape=300,\n",
    "                             label_width=350,\n",
    "                             num_training_samples=16551)"
   ]
  },
  {
   "cell_type": "markdown",
   "metadata": {},
   "source": [
    "Now that the hyperparameters are setup, let us prepare the handshake between our data channels and the algorithm. To do this, we need to create the `sagemaker.session.s3_input` objects from our data channels. These objects are then put in a simple dictionary, which the algorithm consumes."
   ]
  },
  {
   "cell_type": "code",
   "execution_count": 13,
   "metadata": {},
   "outputs": [],
   "source": [
    "train_data = sagemaker.session.s3_input(s3_train_data, distribution='FullyReplicated', \n",
    "                        content_type='application/x-recordio', s3_data_type='S3Prefix')\n",
    "validation_data = sagemaker.session.s3_input(s3_validation_data, distribution='FullyReplicated', \n",
    "                             content_type='application/x-recordio', s3_data_type='S3Prefix')\n",
    "data_channels = {'train': train_data, 'validation': validation_data}"
   ]
  },
  {
   "cell_type": "markdown",
   "metadata": {},
   "source": [
    "We have our `Estimator` object, we have set the hyperparameters for this object and we have our data channels linked with the algorithm. The only remaining thing to do is to train the algorithm. The following command will train the algorithm. Training the algorithm involves a few steps. Firstly, the instances that we requested while creating the `Estimator` classes are provisioned and are setup with the appropriate libraries. Then, the data from our channels are downloaded into the instance. Once this is done, the training job begins. The provisioning and data downloading will take time, depending on the size of the data. Therefore it might be a few minutes before we start getting data logs for our training jobs. The data logs will also print out Mean Average Precision (mAP) on the validation data, among other losses, for every run of the dataset once or one epoch. This metric is a proxy for the quality of the algorithm. \n",
    "\n",
    "Once the job has finished a \"Job complete\" message will be printed. The trained model can be found in the S3 bucket that was setup as `output_path` in the estimator."
   ]
  },
  {
   "cell_type": "code",
   "execution_count": null,
   "metadata": {},
   "outputs": [
    {
     "name": "stderr",
     "output_type": "stream",
     "text": [
      "INFO:sagemaker:Creating training-job with name: object-detection-2018-12-13-23-20-14-143\n"
     ]
    },
    {
     "name": "stdout",
     "output_type": "stream",
     "text": [
      "2018-12-13 23:20:14 Starting - Starting the training job...\n",
      "2018-12-13 23:20:15 Starting - Launching requested ML instances......\n",
      "2018-12-13 23:21:20 Starting - Preparing the instances for training......\n",
      "2018-12-13 23:22:19 Downloading - Downloading input data.........\n",
      "2018-12-13 23:24:11 Training - Training image download completed. Training in progress..\n",
      "\u001b[31mDocker entrypoint called with argument(s): train\u001b[0m\n",
      "\u001b[31m[12/13/2018 23:24:14 INFO 139845967378240] Reading default configuration from /opt/amazon/lib/python2.7/site-packages/algorithm/default-input.json: {u'label_width': u'350', u'early_stopping_min_epochs': u'10', u'epochs': u'30', u'overlap_threshold': u'0.5', u'lr_scheduler_factor': u'0.1', u'_num_kv_servers': u'auto', u'weight_decay': u'0.0005', u'mini_batch_size': u'32', u'use_pretrained_model': u'0', u'freeze_layer_pattern': u'', u'lr_scheduler_step': u'', u'early_stopping': u'False', u'early_stopping_patience': u'5', u'momentum': u'0.9', u'num_training_samples': u'', u'optimizer': u'sgd', u'_tuning_objective_metric': u'', u'early_stopping_tolerance': u'0.0', u'learning_rate': u'0.001', u'kv_store': u'device', u'nms_threshold': u'0.45', u'num_classes': u'', u'base_network': u'vgg-16', u'nms_topk': u'400', u'_kvstore': u'device', u'image_shape': u'300'}\u001b[0m\n",
      "\u001b[31m[12/13/2018 23:24:14 INFO 139845967378240] Reading provided configuration from /opt/ml/input/config/hyperparameters.json: {u'lr_scheduler_step': u'3,6', u'weight_decay': u'0.0005', u'mini_batch_size': u'32', u'optimizer': u'sgd', u'base_network': u'resnet-50', u'learning_rate': u'0.001', u'use_pretrained_model': u'1', u'label_width': u'350', u'epochs': u'10', u'overlap_threshold': u'0.5', u'num_training_samples': u'16551', u'num_classes': u'20', u'nms_threshold': u'0.45', u'image_shape': u'300', u'momentum': u'0.9', u'lr_scheduler_factor': u'0.1'}\u001b[0m\n",
      "\u001b[31m[12/13/2018 23:24:14 INFO 139845967378240] Final configuration: {u'label_width': u'350', u'early_stopping_min_epochs': u'10', u'epochs': u'10', u'overlap_threshold': u'0.5', u'lr_scheduler_factor': u'0.1', u'_num_kv_servers': u'auto', u'weight_decay': u'0.0005', u'mini_batch_size': u'32', u'use_pretrained_model': u'1', u'freeze_layer_pattern': u'', u'lr_scheduler_step': u'3,6', u'early_stopping': u'False', u'early_stopping_patience': u'5', u'momentum': u'0.9', u'num_training_samples': u'16551', u'optimizer': u'sgd', u'_tuning_objective_metric': u'', u'early_stopping_tolerance': u'0.0', u'learning_rate': u'0.001', u'kv_store': u'device', u'nms_threshold': u'0.45', u'num_classes': u'20', u'base_network': u'resnet-50', u'nms_topk': u'400', u'_kvstore': u'device', u'image_shape': u'300'}\u001b[0m\n",
      "\u001b[31mProcess 1 is a worker.\u001b[0m\n",
      "\u001b[31m[12/13/2018 23:24:14 INFO 139845967378240] Using default worker.\u001b[0m\n",
      "\u001b[31m[12/13/2018 23:24:14 INFO 139845967378240] Loaded iterator creator application/x-image for content type ('application/x-image', '1.0')\u001b[0m\n",
      "\u001b[31m[12/13/2018 23:24:14 INFO 139845967378240] Loaded iterator creator application/x-recordio for content type ('application/x-recordio', '1.0')\u001b[0m\n",
      "\u001b[31m[12/13/2018 23:24:14 INFO 139845967378240] Loaded iterator creator image/png for content type ('image/png', '1.0')\u001b[0m\n",
      "\u001b[31m[12/13/2018 23:24:14 INFO 139845967378240] Loaded iterator creator image/jpeg for content type ('image/jpeg', '1.0')\u001b[0m\n",
      "\u001b[31m[12/13/2018 23:24:14 INFO 139845967378240] nvidia-smi took: 0.0251939296722 secs to identify 1 gpus\u001b[0m\n",
      "\u001b[31m[12/13/2018 23:24:14 INFO 139845967378240] Number of GPUs being used: 1\u001b[0m\n",
      "\u001b[31m[12/13/2018 23:24:14 WARNING 139845967378240] Training images are resized to image shape (3, 300, 300)\u001b[0m\n",
      "\u001b[31m[23:24:14] /opt/brazil-pkg-cache/packages/MXNetECL/MXNetECL-master.349.0/AL2012/generic-flavor/src/src/io/iter_image_det_recordio.cc:281: ImageDetRecordIOParser: /opt/ml/input/data/train/train.rec, use 7 threads for decoding..\u001b[0m\n",
      "\u001b[31m[23:24:15] /opt/brazil-pkg-cache/packages/MXNetECL/MXNetECL-master.349.0/AL2012/generic-flavor/src/src/io/iter_image_det_recordio.cc:334: ImageDetRecordIOParser: /opt/ml/input/data/train/train.rec, label padding width: 350\u001b[0m\n",
      "\u001b[31m[12/13/2018 23:24:15 WARNING 139845967378240] Validation images are resized to image shape (3, 300, 300)\u001b[0m\n",
      "\u001b[31m[23:24:15] /opt/brazil-pkg-cache/packages/MXNetECL/MXNetECL-master.349.0/AL2012/generic-flavor/src/src/io/iter_image_det_recordio.cc:281: ImageDetRecordIOParser: /opt/ml/input/data/validation/val.rec, use 7 threads for decoding..\u001b[0m\n",
      "\u001b[31m[23:24:16] /opt/brazil-pkg-cache/packages/MXNetECL/MXNetECL-master.349.0/AL2012/generic-flavor/src/src/io/iter_image_det_recordio.cc:334: ImageDetRecordIOParser: /opt/ml/input/data/validation/val.rec, label padding width: 350\u001b[0m\n",
      "\u001b[31m[12/13/2018 23:24:17 INFO 139845967378240] Creating new state\u001b[0m\n",
      "\u001b[31m[12/13/2018 23:24:17 INFO 139845967378240] Number of GPUs being used: 1\u001b[0m\n",
      "\u001b[31m[12/13/2018 23:24:17 INFO 139845967378240] Create Store: device\u001b[0m\n",
      "\u001b[31m[12/13/2018 23:24:17 INFO 139845967378240] Start training with (gpu(0)) from pretrained model 1\u001b[0m\n",
      "\u001b[31m[23:24:17] /opt/brazil-pkg-cache/packages/MXNetECL/MXNetECL-master.349.0/AL2012/generic-flavor/src/src/nnvm/legacy_json_util.cc:209: Loading symbol saved by previous version v0.8.0. Attempting to upgrade...\u001b[0m\n",
      "\u001b[31m[23:24:17] /opt/brazil-pkg-cache/packages/MXNetECL/MXNetECL-master.349.0/AL2012/generic-flavor/src/src/nnvm/legacy_json_util.cc:217: Symbol successfully upgraded!\u001b[0m\n",
      "\u001b[31m[12/13/2018 23:24:17 INFO 139845967378240] done loading checkpoint\u001b[0m\n",
      "\u001b[31m#metrics {\"Metrics\": {\"Max Batches Seen Between Resets\": {\"count\": 1, \"max\": 0, \"sum\": 0.0, \"min\": 0}, \"Number of Batches Since Last Reset\": {\"count\": 1, \"max\": 0, \"sum\": 0.0, \"min\": 0}, \"Number of Records Since Last Reset\": {\"count\": 1, \"max\": 0, \"sum\": 0.0, \"min\": 0}, \"Total Batches Seen\": {\"count\": 1, \"max\": 0, \"sum\": 0.0, \"min\": 0}, \"Total Records Seen\": {\"count\": 1, \"max\": 0, \"sum\": 0.0, \"min\": 0}, \"Max Records Seen Between Resets\": {\"count\": 1, \"max\": 0, \"sum\": 0.0, \"min\": 0}, \"Reset Count\": {\"count\": 1, \"max\": 0, \"sum\": 0.0, \"min\": 0}}, \"EndTime\": 1544743472.417751, \"Dimensions\": {\"Host\": \"algo-1\", \"Meta\": \"init_train_data_iter\", \"Operation\": \"training\", \"Algorithm\": \"AWS/Object Detection\"}, \"StartTime\": 1544743472.417699}\n",
      "\u001b[0m\n",
      "\u001b[31m[23:24:32] /opt/brazil-pkg-cache/packages/MXNetECL/MXNetECL-master.349.0/AL2012/generic-flavor/src/src/operator/nn/./cudnn/./cudnn_algoreg-inl.h:97: Running performance tests to find the best convolution algorithm, this can take a while... (setting env variable MXNET_CUDNN_AUTOTUNE_DEFAULT to 0 to disable)\u001b[0m\n",
      "\u001b[31m[12/13/2018 23:25:01 INFO 139845967378240] Epoch:    0, batches:    100, num_examples:   3200, 110.8 samples/sec, epoch time so far:  0:00:28.869955\u001b[0m\n",
      "\u001b[31m[12/13/2018 23:25:24 INFO 139845967378240] Epoch:    0, batches:    200, num_examples:   6400, 123.1 samples/sec, epoch time so far:  0:00:51.975729\u001b[0m\n",
      "\u001b[31m[12/13/2018 23:25:47 INFO 139845967378240] Epoch:    0, batches:    300, num_examples:   9600, 127.7 samples/sec, epoch time so far:  0:01:15.187187\u001b[0m\n",
      "\u001b[31m[12/13/2018 23:26:10 INFO 139845967378240] Epoch:    0, batches:    400, num_examples:   12800, 130.1 samples/sec, epoch time so far:  0:01:38.394386\u001b[0m\n",
      "\u001b[31m[12/13/2018 23:26:33 INFO 139845967378240] Epoch:    0, batches:    500, num_examples:   16000, 131.9 samples/sec, epoch time so far:  0:02:01.302476\u001b[0m\n",
      "\u001b[31m[12/13/2018 23:26:37 INFO 139845967378240] #quality_metric: host=algo-1, epoch=0, batch=517 train cross_entropy <loss>=(1.99003052756)\u001b[0m\n",
      "\u001b[31m[12/13/2018 23:26:37 INFO 139845967378240] #quality_metric: host=algo-1, epoch=0, batch=517 train smooth_l1 <loss>=(0.73476943284)\u001b[0m\n",
      "\u001b[31m[12/13/2018 23:26:37 INFO 139845967378240] Round of batches complete\u001b[0m\n",
      "\u001b[31m[12/13/2018 23:26:37 INFO 139845967378240] Updated the metrics\u001b[0m\n",
      "\u001b[31m[12/13/2018 23:27:14 INFO 139845967378240] #quality_metric: host=algo-1, epoch=0, validation mAP <score>=(0.00229114190628)\u001b[0m\n",
      "\u001b[31m[12/13/2018 23:27:14 INFO 139845967378240] Updating the best model with validation-mAP=0.00229114190628\u001b[0m\n",
      "\u001b[31m[12/13/2018 23:27:14 INFO 139845967378240] Saved checkpoint to \"/opt/ml/model/model_algo_1-0000.params\"\u001b[0m\n",
      "\u001b[31m[12/13/2018 23:27:14 INFO 139845967378240] #progress_metric: host=algo-1, completed 10 % of epochs\u001b[0m\n",
      "\u001b[31m#metrics {\"Metrics\": {\"Max Batches Seen Between Resets\": {\"count\": 1, \"max\": 0, \"sum\": 0.0, \"min\": 0}, \"Number of Batches Since Last Reset\": {\"count\": 1, \"max\": 0, \"sum\": 0.0, \"min\": 0}, \"Number of Records Since Last Reset\": {\"count\": 1, \"max\": 0, \"sum\": 0.0, \"min\": 0}, \"Total Batches Seen\": {\"count\": 1, \"max\": 0, \"sum\": 0.0, \"min\": 0}, \"Total Records Seen\": {\"count\": 1, \"max\": 0, \"sum\": 0.0, \"min\": 0}, \"Max Records Seen Between Resets\": {\"count\": 1, \"max\": 0, \"sum\": 0.0, \"min\": 0}, \"Reset Count\": {\"count\": 1, \"max\": 1, \"sum\": 1.0, \"min\": 1}}, \"EndTime\": 1544743634.727865, \"Dimensions\": {\"Host\": \"algo-1\", \"Meta\": \"training_data_iter\", \"Operation\": \"training\", \"Algorithm\": \"AWS/Object Detection\", \"epoch\": 0}, \"StartTime\": 1544743472.417966}\n",
      "\u001b[0m\n"
     ]
    },
    {
     "name": "stdout",
     "output_type": "stream",
     "text": [
      "\u001b[31m[12/13/2018 23:27:38 INFO 139845967378240] Epoch:    1, batches:    100, num_examples:   3200, 136.0 samples/sec, epoch time so far:  0:00:23.524514\u001b[0m\n",
      "\u001b[31m[12/13/2018 23:28:01 INFO 139845967378240] Epoch:    1, batches:    200, num_examples:   6400, 136.8 samples/sec, epoch time so far:  0:00:46.799026\u001b[0m\n",
      "\u001b[31m[12/13/2018 23:28:24 INFO 139845967378240] Epoch:    1, batches:    300, num_examples:   9600, 137.6 samples/sec, epoch time so far:  0:01:09.764042\u001b[0m\n",
      "\u001b[31m[12/13/2018 23:28:47 INFO 139845967378240] Epoch:    1, batches:    400, num_examples:   12800, 137.7 samples/sec, epoch time so far:  0:01:32.954288\u001b[0m\n",
      "\u001b[31m[12/13/2018 23:29:10 INFO 139845967378240] Epoch:    1, batches:    500, num_examples:   16000, 137.7 samples/sec, epoch time so far:  0:01:56.192458\u001b[0m\n",
      "\u001b[31m[12/13/2018 23:29:14 INFO 139845967378240] #quality_metric: host=algo-1, epoch=1, batch=517 train cross_entropy <loss>=(1.21613795014)\u001b[0m\n",
      "\u001b[31m[12/13/2018 23:29:14 INFO 139845967378240] #quality_metric: host=algo-1, epoch=1, batch=517 train smooth_l1 <loss>=(0.650933795797)\u001b[0m\n",
      "\u001b[31m[12/13/2018 23:29:14 INFO 139845967378240] Round of batches complete\u001b[0m\n",
      "\u001b[31m[12/13/2018 23:29:14 INFO 139845967378240] Updated the metrics\u001b[0m\n",
      "\u001b[31m[12/13/2018 23:29:51 INFO 139845967378240] #quality_metric: host=algo-1, epoch=1, validation mAP <score>=(0.0116083063335)\u001b[0m\n",
      "\u001b[31m[12/13/2018 23:29:51 INFO 139845967378240] Updating the best model with validation-mAP=0.0116083063335\u001b[0m\n",
      "\u001b[31m[12/13/2018 23:29:51 INFO 139845967378240] Saved checkpoint to \"/opt/ml/model/model_algo_1-0000.params\"\u001b[0m\n",
      "\u001b[31m[12/13/2018 23:29:51 INFO 139845967378240] #progress_metric: host=algo-1, completed 20 % of epochs\u001b[0m\n",
      "\u001b[31m#metrics {\"Metrics\": {\"Max Batches Seen Between Resets\": {\"count\": 1, \"max\": 0, \"sum\": 0.0, \"min\": 0}, \"Number of Batches Since Last Reset\": {\"count\": 1, \"max\": 0, \"sum\": 0.0, \"min\": 0}, \"Number of Records Since Last Reset\": {\"count\": 1, \"max\": 0, \"sum\": 0.0, \"min\": 0}, \"Total Batches Seen\": {\"count\": 1, \"max\": 0, \"sum\": 0.0, \"min\": 0}, \"Total Records Seen\": {\"count\": 1, \"max\": 0, \"sum\": 0.0, \"min\": 0}, \"Max Records Seen Between Resets\": {\"count\": 1, \"max\": 0, \"sum\": 0.0, \"min\": 0}, \"Reset Count\": {\"count\": 1, \"max\": 2, \"sum\": 2.0, \"min\": 2}}, \"EndTime\": 1544743791.172452, \"Dimensions\": {\"Host\": \"algo-1\", \"Meta\": \"training_data_iter\", \"Operation\": \"training\", \"Algorithm\": \"AWS/Object Detection\", \"epoch\": 1}, \"StartTime\": 1544743634.728021}\n",
      "\u001b[0m\n",
      "\u001b[31m[12/13/2018 23:30:14 INFO 139845967378240] Epoch:    2, batches:    100, num_examples:   3200, 136.3 samples/sec, epoch time so far:  0:00:23.470021\u001b[0m\n",
      "\u001b[31m[12/13/2018 23:30:37 INFO 139845967378240] Epoch:    2, batches:    200, num_examples:   6400, 137.0 samples/sec, epoch time so far:  0:00:46.717489\u001b[0m\n",
      "\u001b[31m[12/13/2018 23:31:01 INFO 139845967378240] Epoch:    2, batches:    300, num_examples:   9600, 137.1 samples/sec, epoch time so far:  0:01:10.028932\u001b[0m\n",
      "\u001b[31m[12/13/2018 23:31:24 INFO 139845967378240] Epoch:    2, batches:    400, num_examples:   12800, 137.5 samples/sec, epoch time so far:  0:01:33.105719\u001b[0m\n",
      "\u001b[31m[12/13/2018 23:31:47 INFO 139845967378240] Epoch:    2, batches:    500, num_examples:   16000, 137.3 samples/sec, epoch time so far:  0:01:56.498286\u001b[0m\n",
      "\u001b[31m[12/13/2018 23:31:51 INFO 139845967378240] #quality_metric: host=algo-1, epoch=2, batch=517 train cross_entropy <loss>=(1.17849680121)\u001b[0m\n",
      "\u001b[31m[12/13/2018 23:31:51 INFO 139845967378240] #quality_metric: host=algo-1, epoch=2, batch=517 train smooth_l1 <loss>=(0.615329411181)\u001b[0m\n",
      "\u001b[31m[12/13/2018 23:31:51 INFO 139845967378240] Round of batches complete\u001b[0m\n",
      "\u001b[31m[12/13/2018 23:31:51 INFO 139845967378240] Updated the metrics\u001b[0m\n",
      "\u001b[31m[12/13/2018 23:32:29 INFO 139845967378240] #quality_metric: host=algo-1, epoch=2, validation mAP <score>=(0.0358904313515)\u001b[0m\n",
      "\u001b[31m[12/13/2018 23:32:29 INFO 139845967378240] Updating the best model with validation-mAP=0.0358904313515\u001b[0m\n",
      "\u001b[31m[12/13/2018 23:32:29 INFO 139845967378240] Saved checkpoint to \"/opt/ml/model/model_algo_1-0000.params\"\u001b[0m\n",
      "\u001b[31m[12/13/2018 23:32:29 INFO 139845967378240] #progress_metric: host=algo-1, completed 30 % of epochs\u001b[0m\n",
      "\u001b[31m#metrics {\"Metrics\": {\"Max Batches Seen Between Resets\": {\"count\": 1, \"max\": 0, \"sum\": 0.0, \"min\": 0}, \"Number of Batches Since Last Reset\": {\"count\": 1, \"max\": 0, \"sum\": 0.0, \"min\": 0}, \"Number of Records Since Last Reset\": {\"count\": 1, \"max\": 0, \"sum\": 0.0, \"min\": 0}, \"Total Batches Seen\": {\"count\": 1, \"max\": 0, \"sum\": 0.0, \"min\": 0}, \"Total Records Seen\": {\"count\": 1, \"max\": 0, \"sum\": 0.0, \"min\": 0}, \"Max Records Seen Between Resets\": {\"count\": 1, \"max\": 0, \"sum\": 0.0, \"min\": 0}, \"Reset Count\": {\"count\": 1, \"max\": 3, \"sum\": 3.0, \"min\": 3}}, \"EndTime\": 1544743949.812525, \"Dimensions\": {\"Host\": \"algo-1\", \"Meta\": \"training_data_iter\", \"Operation\": \"training\", \"Algorithm\": \"AWS/Object Detection\", \"epoch\": 2}, \"StartTime\": 1544743791.173095}\n",
      "\u001b[0m\n",
      "\u001b[31m[12/13/2018 23:32:53 INFO 139845967378240] Epoch:    3, batches:    100, num_examples:   3200, 135.9 samples/sec, epoch time so far:  0:00:23.553602\u001b[0m\n",
      "\u001b[31m[12/13/2018 23:33:16 INFO 139845967378240] Epoch:    3, batches:    200, num_examples:   6400, 137.1 samples/sec, epoch time so far:  0:00:46.696046\u001b[0m\n",
      "\u001b[31m[12/13/2018 23:33:39 INFO 139845967378240] Epoch:    3, batches:    300, num_examples:   9600, 137.0 samples/sec, epoch time so far:  0:01:10.068931\u001b[0m\n",
      "\u001b[31m[12/13/2018 23:34:02 INFO 139845967378240] Epoch:    3, batches:    400, num_examples:   12800, 137.5 samples/sec, epoch time so far:  0:01:33.112168\u001b[0m\n",
      "\u001b[31m[12/13/2018 23:34:26 INFO 139845967378240] Epoch:    3, batches:    500, num_examples:   16000, 137.7 samples/sec, epoch time so far:  0:01:56.198694\u001b[0m\n",
      "\u001b[31m[12/13/2018 23:34:29 INFO 139845967378240] #quality_metric: host=algo-1, epoch=3, batch=517 train cross_entropy <loss>=(1.14768294657)\u001b[0m\n",
      "\u001b[31m[12/13/2018 23:34:29 INFO 139845967378240] #quality_metric: host=algo-1, epoch=3, batch=517 train smooth_l1 <loss>=(0.576922477257)\u001b[0m\n",
      "\u001b[31m[12/13/2018 23:34:29 INFO 139845967378240] Round of batches complete\u001b[0m\n",
      "\u001b[31m[12/13/2018 23:34:30 INFO 139845967378240] Updated the metrics\u001b[0m\n",
      "\u001b[31m[12/13/2018 23:39:15 INFO 139845967378240] Epoch:    5, batches:    400, num_examples:   12800, 137.4 samples/sec, epoch time so far:  0:01:33.128463\u001b[0m\n"
     ]
    }
   ],
   "source": [
    "od_model.fit(inputs=data_channels, logs=True)"
   ]
  },
  {
   "cell_type": "markdown",
   "metadata": {},
   "source": [
    "## Endpoint ml.m4.xlarge"
   ]
  },
  {
   "cell_type": "code",
   "execution_count": null,
   "metadata": {},
   "outputs": [],
   "source": [
    "#object_detector = od_model.deploy(initial_instance_count = 1,\n",
    "#                                 instance_type = 'ml.m4.xlarge')"
   ]
  },
  {
   "cell_type": "code",
   "execution_count": 69,
   "metadata": {},
   "outputs": [
    {
     "name": "stdout",
     "output_type": "stream",
     "text": [
      "odieEndpointConfig-2018-12-14-02-26-36\n",
      "Endpoint Config Arn: arn:aws:sagemaker:us-east-1:349934754982:endpoint-config/odieendpointconfig-2018-12-14-02-26-36\n"
     ]
    }
   ],
   "source": [
    "from time import gmtime, strftime\n",
    "model_name_cpu='object-detection-2018-12-14-00-06-47-707'\n",
    "endpoint_config_name_cpu = 'odieEndpointConfig-' + strftime(\"%Y-%m-%d-%H-%M-%S\", gmtime())\n",
    "print(endpoint_config_name_cpu)\n",
    "create_endpoint_config_response = client.create_endpoint_config(\n",
    "    EndpointConfigName = endpoint_config_name_cpu,\n",
    "    ProductionVariants=[{\n",
    "        'VariantName':'cpu-only',\n",
    "        'InstanceType':'ml.m4.xlarge',\n",
    "        'InitialInstanceCount':1,\n",
    "        'ModelName':model_name_cpu}])\n",
    "\n",
    "print(\"Endpoint Config Arn: \" + create_endpoint_config_response['EndpointConfigArn'])\n"
   ]
  },
  {
   "cell_type": "code",
   "execution_count": 70,
   "metadata": {},
   "outputs": [
    {
     "name": "stdout",
     "output_type": "stream",
     "text": [
      "odcpuEndpoint-2018-12-14-02-26-43\n",
      "arn:aws:sagemaker:us-east-1:349934754982:endpoint/odcpuendpoint-2018-12-14-02-26-43\n",
      "Status: Creating\n",
      "Arn: arn:aws:sagemaker:us-east-1:349934754982:endpoint/odcpuendpoint-2018-12-14-02-26-43\n",
      "Create endpoint ended with status: InService\n",
      "CPU times: user 213 ms, sys: 0 ns, total: 213 ms\n",
      "Wall time: 7min 32s\n"
     ]
    }
   ],
   "source": [
    "%%time\n",
    "import time\n",
    "\n",
    "endpoint_name_cpu = 'odcpuEndpoint-' + strftime(\"%Y-%m-%d-%H-%M-%S\", gmtime())\n",
    "print(endpoint_name_cpu)\n",
    "create_endpoint_response = client.create_endpoint(\n",
    "    EndpointName=endpoint_name_cpu,\n",
    "    EndpointConfigName=endpoint_config_name_cpu)\n",
    "print(create_endpoint_response['EndpointArn'])\n",
    "\n",
    "resp = client.describe_endpoint(EndpointName=endpoint_name_cpu)\n",
    "status = resp['EndpointStatus']\n",
    "print(\"Status: \" + status)\n",
    "\n",
    "try:\n",
    "    client.get_waiter('endpoint_in_service').wait(EndpointName=endpoint_name_cpu)\n",
    "finally:\n",
    "    resp = client.describe_endpoint(EndpointName=endpoint_name_cpu)\n",
    "    status = resp['EndpointStatus']\n",
    "    print(\"Arn: \" + resp['EndpointArn'])\n",
    "    print(\"Create endpoint ended with status: \" + status)\n",
    "\n",
    "    if status != 'InService':\n",
    "        message = client.describe_endpoint(EndpointName=endpoint_name_cpu)['FailureReason']\n",
    "        print('Create endpoint failed with the following error: {}'.format(message))\n",
    "        raise Exception('Endpoint creation did not succeed')"
   ]
  },
  {
   "cell_type": "markdown",
   "metadata": {},
   "source": [
    "## Endpoint ml.m4.xlarge + elastic inference"
   ]
  },
  {
   "cell_type": "code",
   "execution_count": 49,
   "metadata": {},
   "outputs": [
    {
     "name": "stdout",
     "output_type": "stream",
     "text": [
      "odieEndpointConfig-2018-12-14-02-18-25\n",
      "Endpoint Config Arn: arn:aws:sagemaker:us-east-1:349934754982:endpoint-config/odieendpointconfig-2018-12-14-02-18-25\n"
     ]
    }
   ],
   "source": [
    "from time import gmtime, strftime\n",
    "model_name='object-detection-2018-12-14-00-06-47-707'\n",
    "endpoint_config_name = 'odieEndpointConfig-' + strftime(\"%Y-%m-%d-%H-%M-%S\", gmtime())\n",
    "print(endpoint_config_name)\n",
    "create_endpoint_config_response = client.create_endpoint_config(\n",
    "    EndpointConfigName = endpoint_config_name,\n",
    "    ProductionVariants=[{\n",
    "        'VariantName':'cpu-ei',\n",
    "        \"AcceleratorType\": 'ml.eia1.medium',\n",
    "        'InstanceType':'ml.m4.xlarge',\n",
    "        'InitialInstanceCount':1,\n",
    "        'ModelName':model_name}])\n",
    "\n",
    "print(\"Endpoint Config Arn: \" + create_endpoint_config_response['EndpointConfigArn'])"
   ]
  },
  {
   "cell_type": "code",
   "execution_count": 20,
   "metadata": {},
   "outputs": [
    {
     "name": "stdout",
     "output_type": "stream",
     "text": [
      "odieEndpoint-2018-12-14-00-29-49\n",
      "arn:aws:sagemaker:us-east-1:349934754982:endpoint/odieendpoint-2018-12-14-00-29-49\n",
      "Status: Creating\n",
      "Arn: arn:aws:sagemaker:us-east-1:349934754982:endpoint/odieendpoint-2018-12-14-00-29-49\n",
      "Create endpoint ended with status: InService\n",
      "CPU times: user 207 ms, sys: 0 ns, total: 207 ms\n",
      "Wall time: 7min 32s\n"
     ]
    }
   ],
   "source": [
    "%%time\n",
    "import time\n",
    "\n",
    "endpoint_name = 'odieEndpoint-' + strftime(\"%Y-%m-%d-%H-%M-%S\", gmtime())\n",
    "print(endpoint_name)\n",
    "create_endpoint_response = client.create_endpoint(\n",
    "    EndpointName=endpoint_name,\n",
    "    EndpointConfigName=endpoint_config_name)\n",
    "print(create_endpoint_response['EndpointArn'])\n",
    "\n",
    "resp = client.describe_endpoint(EndpointName=endpoint_name)\n",
    "status = resp['EndpointStatus']\n",
    "print(\"Status: \" + status)\n",
    "\n",
    "try:\n",
    "    client.get_waiter('endpoint_in_service').wait(EndpointName=endpoint_name)\n",
    "finally:\n",
    "    resp = client.describe_endpoint(EndpointName=endpoint_name)\n",
    "    status = resp['EndpointStatus']\n",
    "    print(\"Arn: \" + resp['EndpointArn'])\n",
    "    print(\"Create endpoint ended with status: \" + status)\n",
    "\n",
    "    if status != 'InService':\n",
    "        message = client.describe_endpoint(EndpointName=endpoint_name)['FailureReason']\n",
    "        print('Create endpoint failed with the following error: {}'.format(message))\n",
    "        raise Exception('Endpoint creation did not succeed')"
   ]
  },
  {
   "cell_type": "markdown",
   "metadata": {},
   "source": [
    "## Endpoint ml.p2.xlarge"
   ]
  },
  {
   "cell_type": "code",
   "execution_count": 45,
   "metadata": {},
   "outputs": [
    {
     "name": "stdout",
     "output_type": "stream",
     "text": [
      "odgpuEndpointConfig-2018-12-14-01-58-16\n",
      "Endpoint Config Arn: arn:aws:sagemaker:us-east-1:349934754982:endpoint-config/odgpuendpointconfig-2018-12-14-01-58-16\n"
     ]
    }
   ],
   "source": [
    "from time import gmtime, strftime\n",
    "model_name_gpu='object-detection-2018-12-14-00-06-47-707'\n",
    "endpoint_config_name_gpu = 'odgpuEndpointConfig-' + strftime(\"%Y-%m-%d-%H-%M-%S\", gmtime())\n",
    "print(endpoint_config_name_gpu)\n",
    "create_endpoint_config_response = client.create_endpoint_config(\n",
    "    EndpointConfigName = endpoint_config_name_gpu,\n",
    "    ProductionVariants=[{\n",
    "        'VariantName':'gpu-only',\n",
    "        'InstanceType':'ml.p2.xlarge',\n",
    "        'InitialInstanceCount':1,\n",
    "        'ModelName':model_name_gpu}])\n",
    "\n",
    "print(\"Endpoint Config Arn: \" + create_endpoint_config_response['EndpointConfigArn'])"
   ]
  },
  {
   "cell_type": "code",
   "execution_count": 46,
   "metadata": {},
   "outputs": [
    {
     "name": "stdout",
     "output_type": "stream",
     "text": [
      "odgpuEndpoint-2018-12-14-01-58-24\n",
      "arn:aws:sagemaker:us-east-1:349934754982:endpoint/odgpuendpoint-2018-12-14-01-58-24\n",
      "Status: Creating\n",
      "Arn: arn:aws:sagemaker:us-east-1:349934754982:endpoint/odgpuendpoint-2018-12-14-01-58-24\n",
      "Create endpoint ended with status: InService\n",
      "CPU times: user 193 ms, sys: 0 ns, total: 193 ms\n",
      "Wall time: 7min 1s\n"
     ]
    }
   ],
   "source": [
    "%%time\n",
    "import time\n",
    "\n",
    "endpoint_name_gpu = 'odgpuEndpoint-' + strftime(\"%Y-%m-%d-%H-%M-%S\", gmtime())\n",
    "print(endpoint_name_gpu)\n",
    "create_endpoint_response = client.create_endpoint(\n",
    "    EndpointName=endpoint_name_gpu,\n",
    "    EndpointConfigName=endpoint_config_name_gpu)\n",
    "print(create_endpoint_response['EndpointArn'])\n",
    "\n",
    "resp = client.describe_endpoint(EndpointName=endpoint_name_gpu)\n",
    "status = resp['EndpointStatus']\n",
    "print(\"Status: \" + status)\n",
    "\n",
    "try:\n",
    "    client.get_waiter('endpoint_in_service').wait(EndpointName=endpoint_name_gpu)\n",
    "finally:\n",
    "    resp = client.describe_endpoint(EndpointName=endpoint_name_gpu)\n",
    "    status = resp['EndpointStatus']\n",
    "    print(\"Arn: \" + resp['EndpointArn'])\n",
    "    print(\"Create endpoint ended with status: \" + status)\n",
    "\n",
    "    if status != 'InService':\n",
    "        message = client.describe_endpoint(EndpointName=endpoint_name_gpu)['FailureReason']\n",
    "        print('Create endpoint failed with the following error: {}'.format(message))\n",
    "        raise Exception('Endpoint creation did not succeed')"
   ]
  },
  {
   "cell_type": "markdown",
   "metadata": {},
   "source": [
    "## Hosting\n",
    "Once the training is done, we can deploy the trained model as an Amazon SageMaker real-time hosted endpoint. This will allow us to make predictions (or inference) from the model. Note that we don't have to host on the same insantance (or type of instance) that we used to train. Training is a prolonged and compute heavy job that require a different of compute and memory requirements that hosting typically do not. We can choose any type of instance we want to host the model. In our case we chose the `ml.p3.2xlarge` instance to train, but we choose to host the model on the less expensive cpu instance, `ml.m4.xlarge`. The endpoint deployment can be accomplished as follows:"
   ]
  },
  {
   "cell_type": "markdown",
   "metadata": {},
   "source": [
    "## Inference\n",
    "Now that the trained model is deployed at an endpoint that is up-and-running, we can use this endpoint for inference. To do this, let us download an image from [PEXELS](https://www.pexels.com/) which the algorithm has so-far not seen. "
   ]
  },
  {
   "cell_type": "code",
   "execution_count": 21,
   "metadata": {},
   "outputs": [
    {
     "name": "stdout",
     "output_type": "stream",
     "text": [
      "--2018-12-14 01:25:16--  https://images.pexels.com/photos/980382/pexels-photo-980382.jpeg\r\n",
      "Resolving images.pexels.com (images.pexels.com)... 104.16.242.112, 104.16.238.112, 104.16.239.112, ...\r\n",
      "Connecting to images.pexels.com (images.pexels.com)|104.16.242.112|:443... connected.\r\n",
      "HTTP request sent, awaiting response... 200 OK\r\n",
      "Length: 1836911 (1.8M) [image/jpeg]\r\n",
      "Saving to: ‘test.jpg’\r\n",
      "\r\n",
      "\r",
      "test.jpg              0%[                    ]       0  --.-KB/s               \r",
      "test.jpg            100%[===================>]   1.75M  --.-KB/s    in 0.01s   \r\n",
      "\r\n",
      "2018-12-14 01:25:16 (137 MB/s) - ‘test.jpg’ saved [1836911/1836911]\r\n",
      "\r\n"
     ]
    }
   ],
   "source": [
    "!wget -O test.jpg https://images.pexels.com/photos/980382/pexels-photo-980382.jpeg\n",
    "file_name = 'test.jpg'\n",
    "\n",
    "with open(file_name, 'rb') as image:\n",
    "    f = image.read()\n",
    "    b = bytearray(f)\n",
    "    ne = open('n.txt','wb')\n",
    "    ne.write(b)"
   ]
  },
  {
   "cell_type": "markdown",
   "metadata": {},
   "source": [
    "## Inference time"
   ]
  },
  {
   "cell_type": "code",
   "execution_count": 48,
   "metadata": {},
   "outputs": [
    {
     "name": "stdout",
     "output_type": "stream",
     "text": [
      "0.650865954999972\n"
     ]
    }
   ],
   "source": [
    "import json\n",
    "from timeit import default_timer as timer\n",
    "\n",
    "\n",
    "\n",
    "object_detector.content_type = 'image/jpeg'\n",
    "start = timer()\n",
    "\n",
    "results = object_detector.predict(b)\n",
    "end = timer()\n",
    "print(end - start)\n",
    "detections = json.loads(results)\n",
    "#print (detections)"
   ]
  },
  {
   "cell_type": "code",
   "execution_count": 68,
   "metadata": {},
   "outputs": [
    {
     "name": "stdout",
     "output_type": "stream",
     "text": [
      "0.6549781339999754\n"
     ]
    }
   ],
   "source": [
    "from timeit import default_timer as timer\n",
    "\n",
    "runtime = boto3.client(service_name='sagemaker-runtime')\n",
    "start = timer() \n",
    "response = runtime.invoke_endpoint(EndpointName='odcpuEndpoint-2018-12-14-01-34-23', \n",
    "                                   ContentType='application/x-image', \n",
    "                                   Body=b) \n",
    "result = response['Body'].read()\n",
    "end = timer()\n",
    "print(end - start)\n",
    "# result will be in json format and convert it to ndarray\n",
    "result = json.loads(result)\n",
    "#print(result)"
   ]
  },
  {
   "cell_type": "code",
   "execution_count": 67,
   "metadata": {},
   "outputs": [
    {
     "name": "stdout",
     "output_type": "stream",
     "text": [
      "0.34717388699937146\n"
     ]
    }
   ],
   "source": [
    "from timeit import default_timer as timer\n",
    "\n",
    "runtime = boto3.client(service_name='sagemaker-runtime')\n",
    "start = timer() \n",
    "response_ie = runtime.invoke_endpoint(EndpointName='odieEndpoint-2018-12-14-00-29-49', \n",
    "                                   ContentType='application/x-image', \n",
    "                                   Body=b)\n",
    "\n",
    "result = response_ie['Body'].read()\n",
    "end = timer()\n",
    "print(end - start)\n",
    "# result will be in json format and convert it to ndarray\n",
    "result = json.loads(result)\n",
    "#print(result)"
   ]
  },
  {
   "cell_type": "code",
   "execution_count": 66,
   "metadata": {},
   "outputs": [
    {
     "name": "stdout",
     "output_type": "stream",
     "text": [
      "0.36183969899866497\n"
     ]
    }
   ],
   "source": [
    "from timeit import default_timer as timer\n",
    "\n",
    "runtime = boto3.client(service_name='sagemaker-runtime')\n",
    "start = timer()\n",
    "response_gpu = runtime.invoke_endpoint(EndpointName='odgpuEndpoint-2018-12-14-01-43-43', \n",
    "                                   ContentType='application/x-image', \n",
    "                                   Body=b) \n",
    "result = response_gpu['Body'].read()\n",
    "end = timer()\n",
    "print(end - start)\n",
    "# result will be in json format and convert it to ndarray\n",
    "result = json.loads(result)\n",
    "#print(result)"
   ]
  },
  {
   "cell_type": "markdown",
   "metadata": {},
   "source": [
    "Let us use our endpoint to try to detect objects within this image. Since the image is `jpeg`, we use the appropriate `content_type` to run the prediction job. The endpoint returns a JSON file that we can simply load and peek into."
   ]
  },
  {
   "cell_type": "markdown",
   "metadata": {},
   "source": [
    "The results are in a format that is similar to the .lst format with an addition of a confidence score for each detected object. The format of the output can be represented as `[class_index, confidence_score, xmin, ymin, xmax, ymax]`. Typically, we don't consider low-confidence predictions.\n",
    "\n",
    "We have provided additional script to easily visualize the detection outputs. You can visulize the high-confidence preditions with bounding box by filtering out low-confidence detections using the script below:"
   ]
  },
  {
   "cell_type": "code",
   "execution_count": null,
   "metadata": {
    "collapsed": true
   },
   "outputs": [],
   "source": [
    "def visualize_detection(img_file, dets, classes=[], thresh=0.6):\n",
    "        \"\"\"\n",
    "        visualize detections in one image\n",
    "        Parameters:\n",
    "        ----------\n",
    "        img : numpy.array\n",
    "            image, in bgr format\n",
    "        dets : numpy.array\n",
    "            ssd detections, numpy.array([[id, score, x1, y1, x2, y2]...])\n",
    "            each row is one object\n",
    "        classes : tuple or list of str\n",
    "            class names\n",
    "        thresh : float\n",
    "            score threshold\n",
    "        \"\"\"\n",
    "        import random\n",
    "        import matplotlib.pyplot as plt\n",
    "        import matplotlib.image as mpimg\n",
    "\n",
    "        img=mpimg.imread(img_file)\n",
    "        plt.imshow(img)\n",
    "        height = img.shape[0]\n",
    "        width = img.shape[1]\n",
    "        colors = dict()\n",
    "        for det in dets:\n",
    "            (klass, score, x0, y0, x1, y1) = det\n",
    "            if score < thresh:\n",
    "                continue\n",
    "            cls_id = int(klass)\n",
    "            if cls_id not in colors:\n",
    "                colors[cls_id] = (random.random(), random.random(), random.random())\n",
    "            xmin = int(x0 * width)\n",
    "            ymin = int(y0 * height)\n",
    "            xmax = int(x1 * width)\n",
    "            ymax = int(y1 * height)\n",
    "            rect = plt.Rectangle((xmin, ymin), xmax - xmin,\n",
    "                                 ymax - ymin, fill=False,\n",
    "                                 edgecolor=colors[cls_id],\n",
    "                                 linewidth=3.5)\n",
    "            plt.gca().add_patch(rect)\n",
    "            class_name = str(cls_id)\n",
    "            if classes and len(classes) > cls_id:\n",
    "                class_name = classes[cls_id]\n",
    "            plt.gca().text(xmin, ymin - 2,\n",
    "                            '{:s} {:.3f}'.format(class_name, score),\n",
    "                            bbox=dict(facecolor=colors[cls_id], alpha=0.5),\n",
    "                                    fontsize=12, color='white')\n",
    "        plt.show()"
   ]
  },
  {
   "cell_type": "markdown",
   "metadata": {},
   "source": [
    "For the sake of this notebook, we trained the model with only a few (10) epochs. This implies that the results might not be optimal. To achieve better detection results, you can try to tune the hyperparameters and train the model for more epochs. In our tests, the mAP can reach 0.79 on the Pascal VOC dataset after training the algorithm with `learning_rate=0.0005`, `image_shape=512` and `mini_batch_size=16` for 240 epochs."
   ]
  },
  {
   "cell_type": "code",
   "execution_count": null,
   "metadata": {
    "collapsed": true
   },
   "outputs": [],
   "source": [
    "object_categories = ['aeroplane', 'bicycle', 'bird', 'boat', 'bottle', 'bus', 'car', 'cat', \n",
    "                     'chair', 'cow', 'diningtable', 'dog', 'horse', 'motorbike', 'person', \n",
    "                     'pottedplant', 'sheep', 'sofa', 'train', 'tvmonitor']\n",
    "\n",
    "# Setting a threshold 0.20 will only plot detection results that have a confidence score greater than 0.20.\n",
    "threshold = 0.20\n",
    "\n",
    "# Visualize the detections.\n",
    "visualize_detection(file_name, detections['prediction'], object_categories, threshold)"
   ]
  },
  {
   "cell_type": "markdown",
   "metadata": {},
   "source": [
    "## Delete the Endpoint\n",
    "Having an endpoint running will incur some costs. Therefore as a clean-up job, we should delete the endpoint."
   ]
  },
  {
   "cell_type": "code",
   "execution_count": null,
   "metadata": {
    "collapsed": true
   },
   "outputs": [],
   "source": [
    "sagemaker.Session().delete_endpoint(object_detector.endpoint)"
   ]
  }
 ],
 "metadata": {
  "kernelspec": {
   "display_name": "conda_mxnet_p36",
   "language": "python",
   "name": "conda_mxnet_p36"
  },
  "language_info": {
   "codemirror_mode": {
    "name": "ipython",
    "version": 3
   },
   "file_extension": ".py",
   "mimetype": "text/x-python",
   "name": "python",
   "nbconvert_exporter": "python",
   "pygments_lexer": "ipython3",
   "version": "3.6.5"
  },
  "notice": "Copyright 2018 Amazon.com, Inc. or its affiliates. All Rights Reserved.  Licensed under the Apache License, Version 2.0 (the \"License\"). You may not use this file except in compliance with the License. A copy of the License is located at http://aws.amazon.com/apache2.0/ or in the \"license\" file accompanying this file. This file is distributed on an \"AS IS\" BASIS, WITHOUT WARRANTIES OR CONDITIONS OF ANY KIND, either express or implied. See the License for the specific language governing permissions and limitations under the License."
 },
 "nbformat": 4,
 "nbformat_minor": 2
}
